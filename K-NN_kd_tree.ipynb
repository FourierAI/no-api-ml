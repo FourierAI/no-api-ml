{
 "cells": [
  {
   "cell_type": "code",
   "execution_count": 1,
   "metadata": {},
   "outputs": [],
   "source": [
    "import numpy as np"
   ]
  },
  {
   "cell_type": "code",
   "execution_count": 2,
   "metadata": {},
   "outputs": [
    {
     "name": "stdout",
     "output_type": "stream",
     "text": [
      "[[b'5.1' b'3.5' b'1.4' b'0.2' b'Iris-setosa']\n",
      " [b'4.9' b'3.0' b'1.4' b'0.2' b'Iris-setosa']\n",
      " [b'4.7' b'3.2' b'1.3' b'0.2' b'Iris-setosa']\n",
      " [b'4.6' b'3.1' b'1.5' b'0.2' b'Iris-setosa']\n",
      " [b'5.0' b'3.6' b'1.4' b'0.2' b'Iris-setosa']]\n"
     ]
    }
   ],
   "source": [
    "url = 'https://archive.ics.uci.edu/ml/machine-learning-databases/iris/iris.data'\n",
    "iris = np.genfromtxt(url, delimiter=',', dtype='object')\n",
    "print(iris[:5])"
   ]
  },
  {
   "cell_type": "code",
   "execution_count": 3,
   "metadata": {},
   "outputs": [],
   "source": [
    "iris[:,:4] = iris[:,:4].astype(np.float)\n",
    "iris[:,4] = iris[:,4].astype(np.str)"
   ]
  },
  {
   "cell_type": "code",
   "execution_count": 4,
   "metadata": {},
   "outputs": [
    {
     "data": {
      "text/plain": [
       "(150, 5)"
      ]
     },
     "execution_count": 4,
     "metadata": {},
     "output_type": "execute_result"
    }
   ],
   "source": [
    "iris.shape"
   ]
  },
  {
   "cell_type": "code",
   "execution_count": 5,
   "metadata": {},
   "outputs": [
    {
     "name": "stdout",
     "output_type": "stream",
     "text": [
      "[[5.1 3.5 1.4 0.2 'Iris-setosa']\n",
      " [4.9 3.0 1.4 0.2 'Iris-setosa']\n",
      " [4.7 3.2 1.3 0.2 'Iris-setosa']\n",
      " [4.6 3.1 1.5 0.2 'Iris-setosa']\n",
      " [5.0 3.6 1.4 0.2 'Iris-setosa']]\n"
     ]
    }
   ],
   "source": [
    "print(iris[:5])"
   ]
  },
  {
   "cell_type": "code",
   "execution_count": 6,
   "metadata": {},
   "outputs": [],
   "source": [
    "class Node:\n",
    "    def __init__(self,X=None,left_node=None,right_node=None):\n",
    "        self.X = X\n",
    "        self.left_node = left_node\n",
    "        self.right_node = right_node\n",
    "    \n",
    "    def __repr__(self):\n",
    "        return 'X:{};left_node:{};right_node:{}'.format(self.X,self.left_node,self.right_node)\n",
    "    \n",
    "    def __str__(self):\n",
    "        return 'X:{};left_node:{};right_node:{}'.format(self.X,self.left_node,self.right_node)"
   ]
  },
  {
   "cell_type": "code",
   "execution_count": 7,
   "metadata": {},
   "outputs": [],
   "source": [
    "node_root = Node([1,2])\n",
    "node_left = Node([3,2])\n",
    "node_right = Node([1,1])\n",
    "node_root.left_node = node_left\n",
    "node_root.right_node = node_right"
   ]
  },
  {
   "cell_type": "code",
   "execution_count": 8,
   "metadata": {},
   "outputs": [
    {
     "name": "stdout",
     "output_type": "stream",
     "text": [
      "X:[1, 2];left_node:X:[3, 2];left_node:None;right_node:None;right_node:X:[1, 1];left_node:None;right_node:None\n"
     ]
    }
   ],
   "source": [
    "print(node_root)"
   ]
  },
  {
   "cell_type": "code",
   "execution_count": 9,
   "metadata": {},
   "outputs": [
    {
     "data": {
      "text/plain": [
       "array([[4.3, 3.0, 1.1, 0.1, 'Iris-setosa']], dtype=object)"
      ]
     },
     "execution_count": 9,
     "metadata": {},
     "output_type": "execute_result"
    }
   ],
   "source": [
    "iris[iris[:,0] == 4.3]"
   ]
  },
  {
   "cell_type": "code",
   "execution_count": 10,
   "metadata": {},
   "outputs": [
    {
     "name": "stdout",
     "output_type": "stream",
     "text": [
      "\n"
     ]
    },
    {
     "data": {
      "text/plain": [
       "0"
      ]
     },
     "execution_count": 10,
     "metadata": {},
     "output_type": "execute_result"
    }
   ],
   "source": [
    "vector = np.array([1,2,4,2,1])\n",
    "print()\n",
    "median_value = 2\n",
    "np.min(abs(vector - median_value))"
   ]
  },
  {
   "cell_type": "code",
   "execution_count": 11,
   "metadata": {},
   "outputs": [
    {
     "data": {
      "text/plain": [
       "array([2, 2])"
      ]
     },
     "execution_count": 11,
     "metadata": {},
     "output_type": "execute_result"
    }
   ],
   "source": [
    "vector[vector - median_value == 0]"
   ]
  },
  {
   "cell_type": "code",
   "execution_count": 12,
   "metadata": {},
   "outputs": [
    {
     "data": {
      "text/plain": [
       "0"
      ]
     },
     "execution_count": 12,
     "metadata": {},
     "output_type": "execute_result"
    }
   ],
   "source": [
    "len(np.array([]))"
   ]
  },
  {
   "cell_type": "code",
   "execution_count": 93,
   "metadata": {},
   "outputs": [],
   "source": [
    "def create_kdtree(node, X_list, count):\n",
    "    if X_list.shape[0]<= 0:\n",
    "        return None \n",
    "    node = Node()\n",
    "    index = count%4\n",
    "    \n",
    "    X_list = X_list[np.argsort(X_list[:,index])]\n",
    "    \n",
    "    X_length = len(X_list)\n",
    "    if X_length%2 == 1:\n",
    "        median_x = X_list[(X_length-1)//2]\n",
    "        left_X = X_list[:(X_length-1)//2]\n",
    "        right_X = X_list[(X_length-1)//2+1:]\n",
    "    else:\n",
    "        median_x = X_list[(X_length)//2-1]\n",
    "        left_X = X_list[:(X_length)//2-1]\n",
    "        right_X = X_list[(X_length)//2:]\n",
    "    node.X = median_x\n",
    "    count += 1\n",
    "    \n",
    "    node.left_node = create_kdtree(None,left_X, count)\n",
    "    node.right_node = create_kdtree(None,right_X, count)\n",
    "    return node"
   ]
  },
  {
   "cell_type": "code",
   "execution_count": 94,
   "metadata": {},
   "outputs": [],
   "source": [
    "kd_tree = create_kdtree(None,iris,0)"
   ]
  },
  {
   "cell_type": "code",
   "execution_count": 95,
   "metadata": {},
   "outputs": [],
   "source": [
    "def dfs_tree(node, node_list):\n",
    "    if node is None:\n",
    "        return node_list\n",
    "    print(node.X)\n",
    "    node_list.append(node.X)\n",
    "    dfs_tree(node.left_node,node_list)\n",
    "    dfs_tree(node.right_node,node_list)\n",
    "    return node_list"
   ]
  },
  {
   "cell_type": "code",
   "execution_count": 96,
   "metadata": {},
   "outputs": [
    {
     "name": "stdout",
     "output_type": "stream",
     "text": [
      "[5.8 4.0 1.2 0.2 'Iris-setosa']\n",
      "[4.9 3.1 1.5 0.1 'Iris-setosa']\n",
      "[5.5 2.4 3.7 1.0 'Iris-versicolor']\n",
      "[4.8 3.1 1.6 0.2 'Iris-setosa']\n",
      "[4.8 3.0 1.4 0.1 'Iris-setosa']\n",
      "[4.3 3.0 1.1 0.1 'Iris-setosa']\n",
      "[4.4 2.9 1.4 0.2 'Iris-setosa']\n",
      "[4.4 3.0 1.3 0.2 'Iris-setosa']\n",
      "[5.0 3.0 1.6 0.2 'Iris-setosa']\n",
      "[4.9 3.0 1.4 0.2 'Iris-setosa']\n",
      "[4.9 3.1 1.5 0.1 'Iris-setosa']\n",
      "[4.9 3.1 1.5 0.1 'Iris-setosa']\n",
      "[5.0 2.3 3.3 1.0 'Iris-versicolor']\n",
      "[4.9 2.4 3.3 1.0 'Iris-versicolor']\n",
      "[4.5 2.3 1.3 0.3 'Iris-setosa']\n",
      "[4.8 3.0 1.4 0.3 'Iris-setosa']\n",
      "[5.1 2.5 3.0 1.1 'Iris-versicolor']\n",
      "[5.0 2.0 3.5 1.0 'Iris-versicolor']\n",
      "[5.7 2.6 3.5 1.0 'Iris-versicolor']\n",
      "[5.6 2.9 3.6 1.3 'Iris-versicolor']\n",
      "[5.6 3.0 4.1 1.3 'Iris-versicolor']\n",
      "[5.6 2.7 4.2 1.3 'Iris-versicolor']\n",
      "[5.6 2.5 3.9 1.1 'Iris-versicolor']\n",
      "[5.5 2.4 3.8 1.1 'Iris-versicolor']\n",
      "[5.5 2.6 4.4 1.2 'Iris-versicolor']\n",
      "[5.7 2.8 4.5 1.3 'Iris-versicolor']\n",
      "[5.8 2.7 4.1 1.0 'Iris-versicolor']\n",
      "[5.7 2.9 4.2 1.3 'Iris-versicolor']\n",
      "[5.7 3.0 4.2 1.2 'Iris-versicolor']\n",
      "[5.5 2.3 4.0 1.3 'Iris-versicolor']\n",
      "[5.5 2.5 4.0 1.3 'Iris-versicolor']\n",
      "[4.9 2.5 4.5 1.7 'Iris-virginica']\n",
      "[5.2 2.7 3.9 1.4 'Iris-versicolor']\n",
      "[5.4 3.0 4.5 1.5 'Iris-versicolor']\n",
      "[5.6 2.8 4.9 2.0 'Iris-virginica']\n",
      "[5.7 2.5 5.0 2.0 'Iris-virginica']\n",
      "[5.7 2.8 4.1 1.3 'Iris-versicolor']\n",
      "[5.6 3.0 4.5 1.5 'Iris-versicolor']\n",
      "[5.1 3.7 1.5 0.4 'Iris-setosa']\n",
      "[4.6 3.6 1.0 0.2 'Iris-setosa']\n",
      "[5.1 3.5 1.4 0.2 'Iris-setosa']\n",
      "[5.0 3.3 1.4 0.2 'Iris-setosa']\n",
      "[4.6 3.2 1.4 0.2 'Iris-setosa']\n",
      "[5.0 3.6 1.4 0.2 'Iris-setosa']\n",
      "[5.4 3.7 1.5 0.2 'Iris-setosa']\n",
      "[5.2 3.4 1.4 0.2 'Iris-setosa']\n",
      "[5.5 4.2 1.4 0.2 'Iris-setosa']\n",
      "[5.2 4.1 1.5 0.1 'Iris-setosa']\n",
      "[5.0 3.5 1.3 0.3 'Iris-setosa']\n",
      "[4.7 3.2 1.3 0.2 'Iris-setosa']\n",
      "[4.4 3.2 1.3 0.2 'Iris-setosa']\n",
      "[5.0 3.2 1.2 0.2 'Iris-setosa']\n",
      "[4.6 3.4 1.4 0.3 'Iris-setosa']\n",
      "[5.5 3.5 1.3 0.2 'Iris-setosa']\n",
      "[5.1 3.5 1.4 0.3 'Iris-setosa']\n",
      "[5.4 3.9 1.3 0.4 'Iris-setosa']\n",
      "[5.1 3.8 1.5 0.3 'Iris-setosa']\n",
      "[5.1 3.8 1.6 0.2 'Iris-setosa']\n",
      "[5.0 3.4 1.5 0.2 'Iris-setosa']\n",
      "[4.8 3.4 1.9 0.2 'Iris-setosa']\n",
      "[4.6 3.1 1.5 0.2 'Iris-setosa']\n",
      "[4.8 3.4 1.6 0.2 'Iris-setosa']\n",
      "[5.4 3.4 1.7 0.2 'Iris-setosa']\n",
      "[5.1 3.4 1.5 0.2 'Iris-setosa']\n",
      "[5.2 3.5 1.5 0.2 'Iris-setosa']\n",
      "[5.3 3.7 1.5 0.2 'Iris-setosa']\n",
      "[5.1 3.3 1.7 0.5 'Iris-setosa']\n",
      "[5.0 3.4 1.6 0.4 'Iris-setosa']\n",
      "[4.7 3.2 1.6 0.2 'Iris-setosa']\n",
      "[5.0 3.5 1.6 0.6 'Iris-setosa']\n",
      "[5.1 3.8 1.9 0.4 'Iris-setosa']\n",
      "[5.7 3.8 1.7 0.3 'Iris-setosa']\n",
      "[5.4 3.4 1.5 0.4 'Iris-setosa']\n",
      "[5.7 4.4 1.5 0.4 'Iris-setosa']\n",
      "[5.4 3.9 1.7 0.4 'Iris-setosa']\n",
      "[7.1 3.0 5.9 2.1 'Iris-virginica']\n",
      "[6.0 2.2 5.0 1.5 'Iris-virginica']\n",
      "[6.6 2.9 4.6 1.3 'Iris-versicolor']\n",
      "[6.1 2.8 4.7 1.2 'Iris-versicolor']\n",
      "[5.8 2.6 4.0 1.2 'Iris-versicolor']\n",
      "[6.0 2.2 4.0 1.0 'Iris-versicolor']\n",
      "[5.8 2.7 3.9 1.2 'Iris-versicolor']\n",
      "[6.1 2.8 4.0 1.3 'Iris-versicolor']\n",
      "[6.3 2.3 4.4 1.3 'Iris-versicolor']\n",
      "[6.2 2.9 4.3 1.3 'Iris-versicolor']\n",
      "[6.4 2.9 4.3 1.3 'Iris-versicolor']\n",
      "[6.3 2.5 4.9 1.5 'Iris-versicolor']\n",
      "[6.2 2.8 4.8 1.8 'Iris-virginica']\n",
      "[6.2 2.2 4.5 1.5 'Iris-versicolor']\n",
      "[6.0 2.9 4.5 1.5 'Iris-versicolor']\n",
      "[6.1 2.9 4.7 1.4 'Iris-versicolor']\n",
      "[6.5 2.8 4.6 1.5 'Iris-versicolor']\n",
      "[6.3 2.7 4.9 1.8 'Iris-virginica']\n",
      "[6.6 3.0 4.4 1.4 'Iris-versicolor']\n",
      "[6.8 2.8 4.8 1.4 'Iris-versicolor']\n",
      "[7.4 2.8 6.1 1.9 'Iris-virginica']\n",
      "[6.3 2.8 5.1 1.5 'Iris-virginica']\n",
      "[6.0 2.7 5.1 1.6 'Iris-versicolor']\n",
      "[6.1 2.6 5.6 1.4 'Iris-virginica']\n",
      "[5.9 3.0 5.1 1.8 'Iris-virginica']\n",
      "[6.7 2.5 5.8 1.8 'Iris-virginica']\n",
      "[6.3 2.5 5.0 1.9 'Iris-virginica']\n",
      "[6.3 2.9 5.6 1.8 'Iris-virginica']\n",
      "[7.3 2.9 6.3 1.8 'Iris-virginica']\n",
      "[6.4 2.8 5.6 2.1 'Iris-virginica']\n",
      "[5.8 2.7 5.1 1.9 'Iris-virginica']\n",
      "[5.8 2.7 5.1 1.9 'Iris-virginica']\n",
      "[5.8 2.8 5.1 2.4 'Iris-virginica']\n",
      "[6.4 2.7 5.3 1.9 'Iris-virginica']\n",
      "[6.4 2.8 5.6 2.2 'Iris-virginica']\n",
      "[7.7 2.6 6.9 2.3 'Iris-virginica']\n",
      "[6.7 3.0 5.2 2.3 'Iris-virginica']\n",
      "[7.7 2.8 6.7 2.0 'Iris-virginica']\n",
      "[6.9 3.1 5.4 2.1 'Iris-virginica']\n",
      "[6.3 3.3 4.7 1.6 'Iris-versicolor']\n",
      "[6.4 3.2 4.5 1.5 'Iris-versicolor']\n",
      "[6.1 3.0 4.6 1.4 'Iris-versicolor']\n",
      "[5.9 3.0 4.2 1.5 'Iris-versicolor']\n",
      "[6.0 3.4 4.5 1.6 'Iris-versicolor']\n",
      "[6.7 3.1 4.7 1.5 'Iris-versicolor']\n",
      "[6.7 3.1 4.4 1.4 'Iris-versicolor']\n",
      "[7.0 3.2 4.7 1.4 'Iris-versicolor']\n",
      "[6.9 3.1 4.9 1.5 'Iris-versicolor']\n",
      "[6.4 3.2 5.3 2.3 'Iris-virginica']\n",
      "[6.1 3.0 4.9 1.8 'Iris-virginica']\n",
      "[6.0 3.0 4.8 1.8 'Iris-virginica']\n",
      "[5.9 3.2 4.8 1.8 'Iris-versicolor']\n",
      "[6.2 3.4 5.4 2.3 'Iris-virginica']\n",
      "[6.7 3.0 5.0 1.7 'Iris-versicolor']\n",
      "[6.5 3.0 5.2 2.0 'Iris-virginica']\n",
      "[6.9 3.1 5.1 2.3 'Iris-virginica']\n",
      "[6.5 3.2 5.1 2.0 'Iris-virginica']\n",
      "[6.5 3.0 5.8 2.2 'Iris-virginica']\n",
      "[6.8 3.0 5.5 2.1 'Iris-virginica']\n",
      "[6.4 3.1 5.5 1.8 'Iris-virginica']\n",
      "[6.5 3.0 5.5 1.8 'Iris-virginica']\n",
      "[6.7 3.3 5.7 2.1 'Iris-virginica']\n",
      "[7.6 3.0 6.6 2.1 'Iris-virginica']\n",
      "[7.2 3.0 5.8 1.6 'Iris-virginica']\n",
      "[7.2 3.2 6.0 1.8 'Iris-virginica']\n",
      "[7.9 3.8 6.4 2.0 'Iris-virginica']\n",
      "[6.8 3.2 5.9 2.3 'Iris-virginica']\n",
      "[6.3 3.3 6.0 2.5 'Iris-virginica']\n",
      "[6.7 3.1 5.6 2.4 'Iris-virginica']\n",
      "[6.3 3.4 5.6 2.4 'Iris-virginica']\n",
      "[6.7 3.3 5.7 2.5 'Iris-virginica']\n",
      "[6.9 3.2 5.7 2.3 'Iris-virginica']\n",
      "[7.7 3.0 6.1 2.3 'Iris-virginica']\n",
      "[7.2 3.6 6.1 2.5 'Iris-virginica']\n",
      "[7.7 3.8 6.7 2.2 'Iris-virginica']\n"
     ]
    }
   ],
   "source": [
    "node_list = dfs_tree(kd_tree,[])"
   ]
  },
  {
   "cell_type": "code",
   "execution_count": 97,
   "metadata": {},
   "outputs": [
    {
     "data": {
      "text/plain": [
       "1.0"
      ]
     },
     "execution_count": 97,
     "metadata": {},
     "output_type": "execute_result"
    }
   ],
   "source": [
    "np.median(np.array([1]))"
   ]
  },
  {
   "cell_type": "code",
   "execution_count": 98,
   "metadata": {},
   "outputs": [
    {
     "data": {
      "text/plain": [
       "150"
      ]
     },
     "execution_count": 98,
     "metadata": {},
     "output_type": "execute_result"
    }
   ],
   "source": [
    "len(node_list)"
   ]
  },
  {
   "cell_type": "code",
   "execution_count": null,
   "metadata": {},
   "outputs": [],
   "source": []
  }
 ],
 "metadata": {
  "kernelspec": {
   "display_name": "Python 3",
   "language": "python",
   "name": "python3"
  },
  "language_info": {
   "codemirror_mode": {
    "name": "ipython",
    "version": 3
   },
   "file_extension": ".py",
   "mimetype": "text/x-python",
   "name": "python",
   "nbconvert_exporter": "python",
   "pygments_lexer": "ipython3",
   "version": "3.7.1"
  }
 },
 "nbformat": 4,
 "nbformat_minor": 2
}
