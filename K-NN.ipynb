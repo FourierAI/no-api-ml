{
 "cells": [
  {
   "cell_type": "code",
   "execution_count": 1,
   "metadata": {},
   "outputs": [],
   "source": [
    "import numpy as np"
   ]
  },
  {
   "cell_type": "code",
   "execution_count": 2,
   "metadata": {},
   "outputs": [
    {
     "name": "stdout",
     "output_type": "stream",
     "text": [
      "[[b'5.1' b'3.5' b'1.4' b'0.2' b'Iris-setosa']\n",
      " [b'4.9' b'3.0' b'1.4' b'0.2' b'Iris-setosa']\n",
      " [b'4.7' b'3.2' b'1.3' b'0.2' b'Iris-setosa']\n",
      " [b'4.6' b'3.1' b'1.5' b'0.2' b'Iris-setosa']\n",
      " [b'5.0' b'3.6' b'1.4' b'0.2' b'Iris-setosa']\n",
      " [b'5.4' b'3.9' b'1.7' b'0.4' b'Iris-setosa']\n",
      " [b'4.6' b'3.4' b'1.4' b'0.3' b'Iris-setosa']\n",
      " [b'5.0' b'3.4' b'1.5' b'0.2' b'Iris-setosa']\n",
      " [b'4.4' b'2.9' b'1.4' b'0.2' b'Iris-setosa']\n",
      " [b'4.9' b'3.1' b'1.5' b'0.1' b'Iris-setosa']]\n"
     ]
    }
   ],
   "source": [
    "url = 'https://archive.ics.uci.edu/ml/machine-learning-databases/iris/iris.data'\n",
    "iris = np.genfromtxt(url,delimiter=',',dtype='object')\n",
    "print(iris[:10])"
   ]
  },
  {
   "cell_type": "code",
   "execution_count": 3,
   "metadata": {},
   "outputs": [
    {
     "name": "stdout",
     "output_type": "stream",
     "text": [
      "(150, 5)\n"
     ]
    }
   ],
   "source": [
    "print(iris.shape)"
   ]
  },
  {
   "cell_type": "code",
   "execution_count": 38,
   "metadata": {},
   "outputs": [
    {
     "data": {
      "text/plain": [
       "50"
      ]
     },
     "execution_count": 38,
     "metadata": {},
     "output_type": "execute_result"
    }
   ],
   "source": [
    "np.count_nonzero(iris[:,4] == b'Iris-setosa')"
   ]
  },
  {
   "cell_type": "code",
   "execution_count": 10,
   "metadata": {},
   "outputs": [],
   "source": [
    "iris_trained = iris[np.random.choice(150,100)]"
   ]
  },
  {
   "cell_type": "code",
   "execution_count": 12,
   "metadata": {},
   "outputs": [
    {
     "name": "stdout",
     "output_type": "stream",
     "text": [
      "[b'Iris-setosa' b'Iris-versicolor' b'Iris-virginica']\n"
     ]
    }
   ],
   "source": [
    "print(np.unique(iris_trained[:,4]))"
   ]
  },
  {
   "cell_type": "code",
   "execution_count": 14,
   "metadata": {},
   "outputs": [],
   "source": [
    "iris_test = iris[np.random.choice(150,50)]"
   ]
  },
  {
   "cell_type": "code",
   "execution_count": 45,
   "metadata": {},
   "outputs": [],
   "source": [
    "K = 10"
   ]
  },
  {
   "cell_type": "code",
   "execution_count": 46,
   "metadata": {},
   "outputs": [],
   "source": [
    "for iris_test_sample in iris_test:\n",
    "    iris_test_sample[:4] = iris_test_sample[:4].astype(np.float)"
   ]
  },
  {
   "cell_type": "code",
   "execution_count": 47,
   "metadata": {},
   "outputs": [],
   "source": [
    "for iris_trained_sample in iris_trained:\n",
    "    iris_trained_sample[:4] = iris_trained_sample[:4].astype(np.float)"
   ]
  },
  {
   "cell_type": "code",
   "execution_count": 48,
   "metadata": {},
   "outputs": [
    {
     "data": {
      "text/plain": [
       "3"
      ]
     },
     "execution_count": 48,
     "metadata": {},
     "output_type": "execute_result"
    }
   ],
   "source": [
    "max(1,2,3)"
   ]
  },
  {
   "cell_type": "code",
   "execution_count": 49,
   "metadata": {},
   "outputs": [
    {
     "name": "stdout",
     "output_type": "stream",
     "text": [
      "this test sample predictive to be a setosa and the realistic value is  b'Iris-setosa'\n",
      "this test sample predictive to be a versicolor and the realistic value is  b'Iris-virginica'\n",
      "this test sample predictive to be a virginica and the realistic value is  b'Iris-virginica'\n",
      "this test sample predictive to be a virginica and the realistic value is  b'Iris-virginica'\n",
      "this test sample predictive to be a setosa and the realistic value is  b'Iris-setosa'\n",
      "this test sample predictive to be a virginica and the realistic value is  b'Iris-virginica'\n",
      "this test sample predictive to be a virginica and the realistic value is  b'Iris-virginica'\n",
      "this test sample predictive to be a virginica and the realistic value is  b'Iris-virginica'\n",
      "this test sample predictive to be a virginica and the realistic value is  b'Iris-virginica'\n",
      "this test sample predictive to be a setosa and the realistic value is  b'Iris-setosa'\n",
      "this test sample predictive to be a virginica and the realistic value is  b'Iris-virginica'\n",
      "this test sample predictive to be a virginica and the realistic value is  b'Iris-virginica'\n",
      "this test sample predictive to be a versicolor and the realistic value is  b'Iris-versicolor'\n",
      "this test sample predictive to be a versicolor and the realistic value is  b'Iris-versicolor'\n",
      "this test sample predictive to be a virginica and the realistic value is  b'Iris-virginica'\n",
      "this test sample predictive to be a setosa and the realistic value is  b'Iris-setosa'\n",
      "this test sample predictive to be a virginica and the realistic value is  b'Iris-virginica'\n",
      "this test sample predictive to be a versicolor and the realistic value is  b'Iris-versicolor'\n",
      "this test sample predictive to be a versicolor and the realistic value is  b'Iris-versicolor'\n",
      "this test sample predictive to be a setosa and the realistic value is  b'Iris-setosa'\n",
      "this test sample predictive to be a virginica and the realistic value is  b'Iris-virginica'\n",
      "this test sample predictive to be a versicolor and the realistic value is  b'Iris-versicolor'\n",
      "this test sample predictive to be a virginica and the realistic value is  b'Iris-virginica'\n",
      "this test sample predictive to be a versicolor and the realistic value is  b'Iris-versicolor'\n",
      "this test sample predictive to be a virginica and the realistic value is  b'Iris-virginica'\n",
      "this test sample predictive to be a virginica and the realistic value is  b'Iris-virginica'\n",
      "this test sample predictive to be a setosa and the realistic value is  b'Iris-setosa'\n",
      "this test sample predictive to be a setosa and the realistic value is  b'Iris-setosa'\n",
      "this test sample predictive to be a setosa and the realistic value is  b'Iris-setosa'\n",
      "this test sample predictive to be a virginica and the realistic value is  b'Iris-virginica'\n",
      "this test sample predictive to be a versicolor and the realistic value is  b'Iris-versicolor'\n",
      "this test sample predictive to be a versicolor and the realistic value is  b'Iris-versicolor'\n",
      "this test sample predictive to be a setosa and the realistic value is  b'Iris-setosa'\n",
      "this test sample predictive to be a versicolor and the realistic value is  b'Iris-virginica'\n",
      "this test sample predictive to be a virginica and the realistic value is  b'Iris-virginica'\n",
      "this test sample predictive to be a setosa and the realistic value is  b'Iris-setosa'\n",
      "this test sample predictive to be a setosa and the realistic value is  b'Iris-setosa'\n",
      "this test sample predictive to be a versicolor and the realistic value is  b'Iris-versicolor'\n",
      "this test sample predictive to be a versicolor and the realistic value is  b'Iris-versicolor'\n",
      "this test sample predictive to be a virginica and the realistic value is  b'Iris-virginica'\n",
      "this test sample predictive to be a versicolor and the realistic value is  b'Iris-versicolor'\n",
      "this test sample predictive to be a setosa and the realistic value is  b'Iris-setosa'\n",
      "this test sample predictive to be a setosa and the realistic value is  b'Iris-setosa'\n",
      "this test sample predictive to be a virginica and the realistic value is  b'Iris-virginica'\n",
      "this test sample predictive to be a virginica and the realistic value is  b'Iris-virginica'\n",
      "this test sample predictive to be a setosa and the realistic value is  b'Iris-setosa'\n",
      "this test sample predictive to be a versicolor and the realistic value is  b'Iris-versicolor'\n",
      "this test sample predictive to be a virginica and the realistic value is  b'Iris-virginica'\n",
      "this test sample predictive to be a setosa and the realistic value is  b'Iris-setosa'\n",
      "this test sample predictive to be a versicolor and the realistic value is  b'Iris-versicolor'\n",
      "this test sample predictive to be a setosa and the realistic value is  b'Iris-setosa'\n",
      "this test sample predictive to be a versicolor and the realistic value is  b'Iris-virginica'\n"
     ]
    }
   ],
   "source": [
    "for iris_test_sample in iris_test:\n",
    "    distance = np.sum((iris_test_sample[:4] - iris_trained[:,:4])**2,axis=1)\n",
    "    iris_distance = np.column_stack((iris_trained,distance))\n",
    "    iris_distance_sorted = iris_distance[iris_distance[:,5].argsort()]\n",
    "    iris_distance_k = iris_distance_sorted[:K]\n",
    "    setosa_count = np.count_nonzero(iris_distance_k[:,4] == b'Iris-setosa')\n",
    "    versicolor_count = np.count_nonzero(iris_distance_k[:,4] == b'Iris-versicolor')\n",
    "    virginica_count = np.count_nonzero(iris_distance_k[:,4] == b'Iris-virginica')\n",
    "    maximum_value = max(setosa_count,versicolor_count,virginica_count)\n",
    "    if maximum_value == versicolor_count:\n",
    "        print('this test sample predictive to be a versicolor and the realistic value is ', iris_test_sample[4])\n",
    "    if maximum_value == setosa_count:\n",
    "        print('this test sample predictive to be a setosa and the realistic value is ', iris_test_sample[4])\n",
    "    if maximum_value == virginica_count:\n",
    "        print('this test sample predictive to be a virginica and the realistic value is ', iris_test_sample[4])"
   ]
  },
  {
   "cell_type": "code",
   "execution_count": null,
   "metadata": {},
   "outputs": [],
   "source": []
  }
 ],
 "metadata": {
  "kernelspec": {
   "display_name": "Python 3",
   "language": "python",
   "name": "python3"
  },
  "language_info": {
   "codemirror_mode": {
    "name": "ipython",
    "version": 3
   },
   "file_extension": ".py",
   "mimetype": "text/x-python",
   "name": "python",
   "nbconvert_exporter": "python",
   "pygments_lexer": "ipython3",
   "version": "3.7.1"
  }
 },
 "nbformat": 4,
 "nbformat_minor": 2
}
